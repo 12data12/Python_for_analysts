{
 "cells": [
  {
   "cell_type": "markdown",
   "id": "dd8a8a0c",
   "metadata": {},
   "source": [
    "# Урок 1. Оформление ноутбука и закрепление функций и генераторов"
   ]
  },
  {
   "cell_type": "markdown",
   "id": "65b3d80c",
   "metadata": {},
   "source": [
    "## Задача 1"
   ]
  },
  {
   "cell_type": "markdown",
   "id": "2ff07d7e",
   "metadata": {},
   "source": [
    "На складе лежат разные фрукты в разном количестве.\n",
    "Нужно написать функцию, которая на вход принимает любое количество названий фруктов и их количество, а возвращает общее количество фруктов на складе"
   ]
  },
  {
   "cell_type": "code",
   "execution_count": 1,
   "id": "b6638422",
   "metadata": {},
   "outputs": [],
   "source": [
    "def Total_qty(**fruits: int):\n",
    "    return sum(fruits.values()) "
   ]
  },
  {
   "cell_type": "code",
   "execution_count": 2,
   "id": "3a1e5671",
   "metadata": {},
   "outputs": [
    {
     "data": {
      "text/plain": [
       "70"
      ]
     },
     "execution_count": 2,
     "metadata": {},
     "output_type": "execute_result"
    }
   ],
   "source": [
    "test = Total_qty(apple = 3, pineapple = 6, orange = 45, banana = 15, kiwi = 1)\n",
    "test"
   ]
  },
  {
   "cell_type": "markdown",
   "id": "80b0627f",
   "metadata": {},
   "source": [
    "## Задача 2"
   ]
  },
  {
   "cell_type": "markdown",
   "id": "519146d7",
   "metadata": {},
   "source": [
    "Дан список с затратами на рекламу. Но в данных есть ошибки, некоторые затраты имеют отрицательную величину. Удалите такие значения из списка и посчитайте суммарные затраты\n",
    "[100, 125, -90, 345, 655, -1, 0, 200]\n",
    "Используйте list comprehensions"
   ]
  },
  {
   "cell_type": "code",
   "execution_count": 3,
   "id": "b86669c8",
   "metadata": {},
   "outputs": [],
   "source": [
    "expenses = [100, 125, -90, 345, 655, -1, 0, 200] "
   ]
  },
  {
   "cell_type": "code",
   "execution_count": 4,
   "id": "c35ca93b",
   "metadata": {},
   "outputs": [],
   "source": [
    "def positive_values_sum (full_list: list) -> int:\n",
    "    return sum([i for i in full_list if i > 0]) "
   ]
  },
  {
   "cell_type": "code",
   "execution_count": 5,
   "id": "363d46b5",
   "metadata": {},
   "outputs": [
    {
     "data": {
      "text/plain": [
       "1425"
      ]
     },
     "execution_count": 5,
     "metadata": {},
     "output_type": "execute_result"
    }
   ],
   "source": [
    "test = positive_values_sum (expenses)\n",
    "test"
   ]
  },
  {
   "cell_type": "markdown",
   "id": "513e9745",
   "metadata": {},
   "source": [
    "## Задача 3"
   ]
  },
  {
   "cell_type": "markdown",
   "id": "c77fec59",
   "metadata": {},
   "source": [
    "Даны два списка: дата покупки *date* и сумма покупок по датам *amount*, найдите, какая выручка у компании в ноябре. Используйте list comprehensions."
   ]
  },
  {
   "cell_type": "code",
   "execution_count": 6,
   "id": "8d92b8aa",
   "metadata": {},
   "outputs": [],
   "source": [
    "date = ['2021-09-14', '2021-12-15', '2021-09-08', '2021-12-05', '2021-10-09', '2021-09-30', '2021-12-22', '2021-11-29', '2021-12-24', '2021-11-26', '2021-10-27', '2021-12-18', '2021-11-09', '2021-11-23', '2021-09-27', '2021-10-02', '2021-12-27', '2021-09-20', '2021-12-13', '2021-11-01', '2021-11-09', '2021-12-06', '2021-12-08', '2021-10-09', '2021-10-31', '2021-09-30', '2021-11-09', '2021-12-13', '2021-10-26', '2021-12-09']\n",
    "amount = [1270, 8413, 9028, 3703, 5739, 4095, 295, 4944, 5723, 3701, 4471, 651, 7037, 4274, 6275, 4988, 6930, 2971, 6592, 2004, 2822, 519, 3406, 2732, 5015, 2008, 316, 6333, 5700, 2887]"
   ]
  },
  {
   "cell_type": "code",
   "execution_count": 7,
   "id": "caea6b26",
   "metadata": {},
   "outputs": [
    {
     "data": {
      "text/plain": [
       "True"
      ]
     },
     "execution_count": 7,
     "metadata": {},
     "output_type": "execute_result"
    }
   ],
   "source": [
    "len(date) == len(amount)"
   ]
  },
  {
   "cell_type": "code",
   "execution_count": 8,
   "id": "4782de68",
   "metadata": {},
   "outputs": [],
   "source": [
    "def List2_filter_based_on_list1_values(list1: list, list2: list, value_for_filtering: str) -> list:\n",
    "    if len(date) != len(amount):\n",
    "        return print('Different lenght of lists.')\n",
    "    else:\n",
    "        return [list2[i] for i in range(len(list1)) if value_for_filtering in list1[i]]"
   ]
  },
  {
   "cell_type": "code",
   "execution_count": 9,
   "id": "a40d776c",
   "metadata": {},
   "outputs": [
    {
     "data": {
      "text/plain": [
       "[4944, 3701, 7037, 4274, 2004, 2822, 316]"
      ]
     },
     "execution_count": 9,
     "metadata": {},
     "output_type": "execute_result"
    }
   ],
   "source": [
    "november_amount = List2_filter_based_on_list1_values(list2 = amount, list1 = date, value_for_filtering = \"-11-\")\n",
    "november_amount"
   ]
  },
  {
   "cell_type": "code",
   "execution_count": 10,
   "id": "d340981b",
   "metadata": {},
   "outputs": [
    {
     "data": {
      "text/plain": [
       "25098"
      ]
     },
     "execution_count": 10,
     "metadata": {},
     "output_type": "execute_result"
    }
   ],
   "source": [
    "sum(november_amount)"
   ]
  },
  {
   "cell_type": "markdown",
   "id": "76e46c10",
   "metadata": {},
   "source": [
    "## Задача 3.1"
   ]
  },
  {
   "cell_type": "markdown",
   "id": "abe97137",
   "metadata": {},
   "source": [
    "Даны два списка: дата покупки *date* и сумма покупок по датам *amount*. Найдите выручку компании в зависимости от месяца.Для этого напишите функцию, которая на вход принимает список с датами и список с выручкой, а на выходе словарь, где ключи - это месяцы, а значения - это выручка.\n",
    "Используйте аннотирование типов."
   ]
  },
  {
   "cell_type": "markdown",
   "id": "de754601",
   "metadata": {},
   "source": [
    "#### Вариант 1 "
   ]
  },
  {
   "cell_type": "code",
   "execution_count": 11,
   "id": "9db9f41d",
   "metadata": {},
   "outputs": [],
   "source": [
    "def Dictionary_from_2_lists(list1: list = date, list2: list = amount) -> dict:\n",
    "    if len(date) != len(amount):\n",
    "        return print('Different lenght of lists.')\n",
    "    else:\n",
    "        result ={}\n",
    "        for i in range(len(date)):\n",
    "            month = date[i][5:7] \n",
    "            if month in result.keys():\n",
    "                result [month] += amount[i]\n",
    "            else:\n",
    "                result [month] = amount[i]\n",
    "        return sorted(result.items())"
   ]
  },
  {
   "cell_type": "code",
   "execution_count": 12,
   "id": "8ef9ee56",
   "metadata": {},
   "outputs": [
    {
     "data": {
      "text/plain": [
       "[('09', 25647), ('10', 28645), ('11', 25098), ('12', 45452)]"
      ]
     },
     "execution_count": 12,
     "metadata": {},
     "output_type": "execute_result"
    }
   ],
   "source": [
    "Dictionary_from_2_lists()"
   ]
  },
  {
   "cell_type": "markdown",
   "id": "a45224b6",
   "metadata": {},
   "source": [
    "#### Вариант 2, красивый табличный вывод"
   ]
  },
  {
   "cell_type": "code",
   "execution_count": 13,
   "id": "b8da0672",
   "metadata": {},
   "outputs": [
    {
     "data": {
      "text/html": [
       "<div>\n",
       "<style scoped>\n",
       "    .dataframe tbody tr th:only-of-type {\n",
       "        vertical-align: middle;\n",
       "    }\n",
       "\n",
       "    .dataframe tbody tr th {\n",
       "        vertical-align: top;\n",
       "    }\n",
       "\n",
       "    .dataframe thead th {\n",
       "        text-align: right;\n",
       "    }\n",
       "</style>\n",
       "<table border=\"1\" class=\"dataframe\">\n",
       "  <thead>\n",
       "    <tr style=\"text-align: right;\">\n",
       "      <th></th>\n",
       "      <th>Amount</th>\n",
       "    </tr>\n",
       "    <tr>\n",
       "      <th>Month</th>\n",
       "      <th></th>\n",
       "    </tr>\n",
       "  </thead>\n",
       "  <tbody>\n",
       "    <tr>\n",
       "      <th>9</th>\n",
       "      <td>25647</td>\n",
       "    </tr>\n",
       "    <tr>\n",
       "      <th>10</th>\n",
       "      <td>28645</td>\n",
       "    </tr>\n",
       "    <tr>\n",
       "      <th>11</th>\n",
       "      <td>25098</td>\n",
       "    </tr>\n",
       "    <tr>\n",
       "      <th>12</th>\n",
       "      <td>45452</td>\n",
       "    </tr>\n",
       "  </tbody>\n",
       "</table>\n",
       "</div>"
      ],
      "text/plain": [
       "       Amount\n",
       "Month        \n",
       "9       25647\n",
       "10      28645\n",
       "11      25098\n",
       "12      45452"
      ]
     },
     "execution_count": 13,
     "metadata": {},
     "output_type": "execute_result"
    }
   ],
   "source": [
    "import pandas as pd\n",
    "import datetime\n",
    " \n",
    "df = pd.DataFrame()\n",
    "df['Date'] = [datetime.datetime.strptime(i, '%Y-%m-%d') for i in date]\n",
    "df['Amount'] = amount\n",
    "df['Month'] = pd.DatetimeIndex(df['Date']).month\n",
    "df.groupby('Month').sum()"
   ]
  }
 ],
 "metadata": {
  "kernelspec": {
   "display_name": "Python 3 (ipykernel)",
   "language": "python",
   "name": "python3"
  },
  "language_info": {
   "codemirror_mode": {
    "name": "ipython",
    "version": 3
   },
   "file_extension": ".py",
   "mimetype": "text/x-python",
   "name": "python",
   "nbconvert_exporter": "python",
   "pygments_lexer": "ipython3",
   "version": "3.9.13"
  }
 },
 "nbformat": 4,
 "nbformat_minor": 5
}
